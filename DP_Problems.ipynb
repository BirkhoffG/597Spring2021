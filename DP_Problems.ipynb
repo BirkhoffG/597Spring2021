{
 "cells": [
  {
   "cell_type": "markdown",
   "metadata": {},
   "source": [
    "# PSU IST 597: Homework 2\n",
    "## Differential Privacy"
   ]
  },
  {
   "cell_type": "markdown",
   "metadata": {},
   "source": [
    "### Instructions\n",
    "This assignment follows the same principles as our hands-on in-class activities, and centers around concepts we've discussed in our differential privacy module.\n",
    "\n",
    "To ensure that the notebook runs, I've defined a function your_code_here() that simply returns the number 1. Whenever you see a call to this function, you should replace it with code you have written. Please make sure all cells of your notebook run without error before submitting the assignment. If you have not completed all the questions, leave calls to your_code_here() in place or insert dummy values so that the cell does not throw an error when it runs.\n",
    "\n",
    "When answering non-code questions, feel free to use a comment, or put the cell in Markdown mode and use Markdown.\n",
    "The point value of each question is listed with the question, and these add up to 100 points. The assignment is due by 9:00am on Wednesdsay, March 24. (Each day late is a 10 point deduction.) When you have finished your assignment, please submit it via Canvas."
   ]
  },
  {
   "cell_type": "markdown",
   "metadata": {},
   "source": [
    "### Preamble"
   ]
  },
  {
   "cell_type": "code",
   "execution_count": 2,
   "metadata": {},
   "outputs": [],
   "source": [
    "%matplotlib inline\n",
    "import matplotlib.pyplot as plt\n",
    "plt.style.use('seaborn-whitegrid')\n",
    "import pandas as pd\n",
    "import numpy as np\n",
    "\n",
    "# Our usual dataset\n",
    "\n",
    "adult_data = pd.read_csv(\"adult_with_pii.csv\")\n",
    "adult_data['DOB'] = pd.to_datetime(adult_data['DOB'], errors='coerce')\n",
    "adult_data.head()\n",
    "\n",
    "# Some useful utilities from earlier assignments\n",
    "\n",
    "def laplace_mech(v, sensitivity, epsilon):\n",
    "    return v + np.random.laplace(loc=0, scale=sensitivity / epsilon)\n",
    "\n",
    "def pct_error(orig, priv):\n",
    "    return np.abs(orig - priv)/orig * 100.0\n",
    "\n",
    "def your_code_here():\n",
    "    return 1"
   ]
  },
  {
   "cell_type": "markdown",
   "metadata": {},
   "source": [
    "## Collaboration Statement\n",
    "\n",
    "**You are expected to work indepdently on this assignment.** Everyone should write their *own code and responses*. You may collaborate with a classmate through *high level* discussions (only). To the extent that you do so, please describe this in the collaboration statment below."
   ]
  },
  {
   "cell_type": "code",
   "execution_count": 3,
   "metadata": {},
   "outputs": [],
   "source": [
    "# In this cell (in markdown or a comment) write your collaboration statement"
   ]
  },
  {
   "cell_type": "markdown",
   "metadata": {},
   "source": [
    "### Question 1 (1 point)"
   ]
  },
  {
   "cell_type": "markdown",
   "metadata": {},
   "source": [
    "Write code to answer the following query:\n",
    "\n",
    "`For each marital status in the census data, how many participants had that status?`\n",
    "\n",
    "*Note*: \"marital status\" is misspelled as `Martial Status` in the column names.\n",
    "\n",
    "*Hint*: use `unique()` to obtain the set of unique values in a column, and use `shape[0]` to count the number of rows in a dataframe."
   ]
  },
  {
   "cell_type": "code",
   "execution_count": 4,
   "metadata": {},
   "outputs": [
    {
     "data": {
      "text/plain": [
       "1"
      ]
     },
     "execution_count": 4,
     "metadata": {},
     "output_type": "execute_result"
    }
   ],
   "source": [
    "your_code_here()"
   ]
  },
  {
   "cell_type": "markdown",
   "metadata": {},
   "source": [
    "### Question 2 (3 points)\n",
    "\n",
    "Write code to return a differentially private version of your result from the last question. Use the definition of `laplace_mech`."
   ]
  },
  {
   "cell_type": "code",
   "execution_count": 5,
   "metadata": {},
   "outputs": [
    {
     "data": {
      "text/plain": [
       "1"
      ]
     },
     "execution_count": 5,
     "metadata": {},
     "output_type": "execute_result"
    }
   ],
   "source": [
    "your_code_here()"
   ]
  },
  {
   "cell_type": "markdown",
   "metadata": {},
   "source": [
    "### Question 3 (3 points)\n",
    "\n",
    "In the cell below, answer the following in 3-5 sentences:\n",
    "- What is the privacy cost of your answer to the last question, and why?\n",
    "- Does it violate privacy to release the set of unique marital status categories (i.e. the \"histogram bin labels\"), as we do here? Why or why not? \n",
    "- Is the answer to the above point the same for every dataset?"
   ]
  },
  {
   "cell_type": "code",
   "execution_count": 6,
   "metadata": {},
   "outputs": [],
   "source": [
    "# In this cell (in markdown or a comment) write your reponses."
   ]
  },
  {
   "cell_type": "markdown",
   "metadata": {},
   "source": [
    "### Question 4 (5 points)\n",
    "\n",
    "Fill in the following code block to produce graphs of the percent error introduced for each count. Your code should compute 100 differentially private answers for each marital status, and compute the percent error of those answers. The remaining code will plot histograms of the results for each status."
   ]
  },
  {
   "cell_type": "code",
   "execution_count": 7,
   "metadata": {},
   "outputs": [
    {
     "data": {
      "image/png": "[encoded data removed]",
      "text/plain": [
       "<Figure size 432x288 with 7 Axes>"
      ]
     },
     "metadata": {},
     "output_type": "display_data"
    }
   ],
   "source": [
    "fig = plt.figure()\n",
    "\n",
    "dom = adult_data['Martial Status'].unique()\n",
    "for status,num in zip(dom, range(1, len(dom)+1)):\n",
    "    orig_vals = [your_code_here()]\n",
    "    errors = [your_code_here() for x in orig_vals]\n",
    "    ax = fig.add_subplot(4,2,num)\n",
    "    ax.hist(errors, bins=10)\n",
    "    ax.set_title(status)\n",
    "\n",
    "plt.tight_layout()\n",
    "plt.show()"
   ]
  },
  {
   "cell_type": "markdown",
   "metadata": {},
   "source": [
    "### Question 5 (3 points)\n",
    "\n",
    "In 3-5 sentences, answer the following:\n",
    "- Which marital status tends to have the largest error? Which one has the smallest error?\n",
    "- What is the reason for this discrepency?\n",
    "- Describe a rule of thumb for deciding when a differentially private counting query will yield an accurate result."
   ]
  },
  {
   "cell_type": "code",
   "execution_count": 8,
   "metadata": {},
   "outputs": [],
   "source": [
    "# In this cell (in markdown or a comment) write your reponses."
   ]
  },
  {
   "cell_type": "markdown",
   "metadata": {},
   "source": [
    "### Question 6 (2 points)\n",
    "\n",
    "Build a [contingency table](https://en.wikipedia.org/wiki/Contingency_table) between the `Martial Status` and `Sex` columns of the `adult_data` dataframe.\n",
    "\n",
    "*Note*: \"marital status\" is misspelled as `Martial Status` in the column names.\n",
    "\n",
    "*Hint*: use `pd.crosstab(..., ...)` (documentation [here](https://pandas.pydata.org/pandas-docs/stable/generated/pandas.crosstab.html))."
   ]
  },
  {
   "cell_type": "code",
   "execution_count": 9,
   "metadata": {},
   "outputs": [
    {
     "data": {
      "text/plain": [
       "1"
      ]
     },
     "execution_count": 9,
     "metadata": {},
     "output_type": "execute_result"
    }
   ],
   "source": [
    "your_code_here()"
   ]
  },
  {
   "cell_type": "markdown",
   "metadata": {},
   "source": [
    "### Question 7 (3 points)\n",
    "\n",
    "Write code to build a differentially private version of your result from the last question."
   ]
  },
  {
   "cell_type": "code",
   "execution_count": 10,
   "metadata": {},
   "outputs": [
    {
     "data": {
      "text/plain": [
       "1"
      ]
     },
     "execution_count": 10,
     "metadata": {},
     "output_type": "execute_result"
    }
   ],
   "source": [
    "your_code_here()"
   ]
  },
  {
   "cell_type": "markdown",
   "metadata": {},
   "source": [
    "### Question 8 (5 points)\n",
    "\n",
    "Write code to display a table containing percent errors for each of the cells in your answer to the last question."
   ]
  },
  {
   "cell_type": "code",
   "execution_count": 11,
   "metadata": {},
   "outputs": [
    {
     "data": {
      "text/plain": [
       "1"
      ]
     },
     "execution_count": 11,
     "metadata": {},
     "output_type": "execute_result"
    }
   ],
   "source": [
    "your_code_here()"
   ]
  },
  {
   "cell_type": "markdown",
   "metadata": {},
   "source": [
    "### Question 9 (3 points)\n",
    "\n",
    "In 3-5 sentences, answer the following:\n",
    "- What is the privacy cost of your answer to Question 7?\n",
    "- For which cells does your solution produce accurate results? For which cells does it produce results with high error?"
   ]
  },
  {
   "cell_type": "code",
   "execution_count": 12,
   "metadata": {},
   "outputs": [],
   "source": [
    "# In this cell (in markdown or a comment) write your reponses."
   ]
  },
  {
   "cell_type": "markdown",
   "metadata": {},
   "source": [
    "### Question 10 (5 points)\n",
    "\n",
    "Write code to produce a differentially private contingency table for three variables: `Martial Status`, `Sex`, and `Education`. Also write code to display the percent error for each cell in your table."
   ]
  },
  {
   "cell_type": "code",
   "execution_count": 13,
   "metadata": {},
   "outputs": [
    {
     "data": {
      "text/plain": [
       "1"
      ]
     },
     "metadata": {},
     "output_type": "display_data"
    },
    {
     "data": {
      "text/plain": [
       "1"
      ]
     },
     "metadata": {},
     "output_type": "display_data"
    }
   ],
   "source": [
    "tabs = your_code_here()\n",
    "display(tabs)\n",
    "errors = your_code_here()\n",
    "display(errors)"
   ]
  },
  {
   "cell_type": "markdown",
   "metadata": {},
   "source": [
    "### Question 11 (5 points)\n",
    "\n",
    "In 5-10 sentences, answer the following:\n",
    "- What is the privacy cost of your differentially private contingency table in Question 10? Why?\n",
    "- The contingency table in the last question contains 3 variables, compared to 2 in the table from earlier. Is the privacy cost for the table in Question 10 different from the privacy cost in Question 7? Why or why not?\n",
    "- In general, what is the effect of the number of variables in a single contingency on **privacy cost**? Why is this the case?\n",
    "- In general, what is the effect of the number of variables in a single contingency on **accuracy**? Why is this the case?"
   ]
  },
  {
   "cell_type": "code",
   "execution_count": 14,
   "metadata": {},
   "outputs": [],
   "source": [
    "# In this cell (in markdown or a comment) write your reponses."
   ]
  },
  {
   "cell_type": "markdown",
   "metadata": {},
   "source": [
    "### Question 12 (2 points)\n",
    "\n",
    "Define a function `z_clip` that clips elements of its input to lie below `b`. You may assume that no input will be less than 0."
   ]
  },
  {
   "cell_type": "code",
   "execution_count": 15,
   "metadata": {},
   "outputs": [],
   "source": [
    "def z_clip(xs, b):\n",
    "    return your_code_here()"
   ]
  },
  {
   "cell_type": "markdown",
   "metadata": {},
   "source": [
    "### Question 13 (3 points)\n",
    "\n",
    "Write code to (1) clip the values of the `Capital Gain` column of the dataset, and (2) compute the average of the clipped values. Run your code for various values of the clipping parameter `b`."
   ]
  },
  {
   "cell_type": "code",
   "execution_count": 16,
   "metadata": {},
   "outputs": [
    {
     "data": {
      "text/plain": [
       "1"
      ]
     },
     "execution_count": 16,
     "metadata": {},
     "output_type": "execute_result"
    }
   ],
   "source": [
    "cg = adult_data['Capital Gain']\n",
    "\n",
    "your_code_here()"
   ]
  },
  {
   "cell_type": "markdown",
   "metadata": {},
   "source": [
    "### Question 14 (5 points)\n",
    "\n",
    "Write code to return the differentially private average of `Capital Gain` parameterized by the clipping parameter `b`. Run your code for various values of `b` and determine the error introduced for each value of `b`. \n",
    "\n",
    "*Note*: Your output should look something like the triple ('b', 'answer', 'pct_error')."
   ]
  },
  {
   "cell_type": "code",
   "execution_count": 17,
   "metadata": {},
   "outputs": [
    {
     "data": {
      "text/plain": [
       "1"
      ]
     },
     "execution_count": 17,
     "metadata": {},
     "output_type": "execute_result"
    }
   ],
   "source": [
    "your_code_here()"
   ]
  },
  {
   "cell_type": "markdown",
   "metadata": {},
   "source": [
    "### Question 15 (5 points)\n",
    "\n",
    "In 5-10 sentences, answer the following:\n",
    "\n",
    "- In Question 13, at approximately what value of the clipping parameter `b` does the clipped average approach the original (un-clipped) average?\n",
    "- What is the sensitivity of the clipped average at this value of `b`, and why?\n",
    "- In Question 14, at approximately what value of the clipping parameter `b` is the error minimized?\n",
    "- Which seems to be more important for accuracy - the value of `b` or the scale of the noise added? Why?\n",
    "- Do you think the answer to the previous point will be true for every dataset? Why or why not?"
   ]
  },
  {
   "cell_type": "code",
   "execution_count": 18,
   "metadata": {},
   "outputs": [],
   "source": [
    "# In this cell (in markdown or a comment) write your reponses."
   ]
  },
  {
   "cell_type": "markdown",
   "metadata": {},
   "source": [
    "### Question 16 (10 points)\n",
    "\n",
    "Write a function `auto_avg` that returns the differentially private average of an array of values `xs`. Your function should **automatically** determine the clipping parameter `b`, and should enforce differential privacy for a **total** privacy cost of `epsilon`."
   ]
  },
  {
   "cell_type": "code",
   "execution_count": 19,
   "metadata": {},
   "outputs": [],
   "source": [
    "def auto_avg(xs, epsilon):\n",
    "    return your_code_here()"
   ]
  },
  {
   "cell_type": "markdown",
   "metadata": {},
   "source": [
    "### Question 17 (8 points)\n",
    "\n",
    "In 5-10 sentences, answer the following:\n",
    "- Summarize (1-2 sentences only) your approach in `auto_avg`.\n",
    "- Briefly argue that your implementation has privacy cost of `epsilon`.\n",
    "- How close is your function able to get to the \"best\" result you got in Question 14? What accounts for the difference?\n",
    "- Will your approach work well for **all** datasets? If not, describe a dataset for which it is likely to return very inaccurate results."
   ]
  },
  {
   "cell_type": "code",
   "execution_count": 20,
   "metadata": {},
   "outputs": [],
   "source": [
    "# In this cell (in markdown or a comment) write your reponses."
   ]
  },
  {
   "cell_type": "markdown",
   "metadata": {},
   "source": [
    "### Question 18 (3 points)\n",
    "\n",
    "Consider the code below, which graphs the total privacy cost of an averaging attack under (1) sequential composition and (2) advanced composition, for values of `k` between 1 and 200."
   ]
  },
  {
   "cell_type": "code",
   "execution_count": 21,
   "metadata": {},
   "outputs": [
    {
     "data": {
      "image/png": "[encoded data removed]",
      "text/plain": [
       "<Figure size 432x288 with 1 Axes>"
      ]
     },
     "metadata": {},
     "output_type": "display_data"
    }
   ],
   "source": [
    "epsilon = .1\n",
    "delta_p = 1e-5\n",
    "\n",
    "def query():\n",
    "    return len(adult_data[adult_data['Martial Status'] == 'Divorced'])\n",
    "\n",
    "def avg_attack(k):\n",
    "    return np.mean([laplace_mech(query(), 1, epsilon) for i in range(k)])\n",
    "    \n",
    "xs = range(1, 200)\n",
    "privacy_cost_sequential = [k * epsilon for k in xs]\n",
    "privacy_cost_advanced = [2 * epsilon * np.sqrt(2 * k * np.log(1/delta_p)) for k in xs]\n",
    "\n",
    "plt.plot(xs, privacy_cost_sequential);\n",
    "plt.plot(xs, privacy_cost_advanced);"
   ]
  },
  {
   "cell_type": "markdown",
   "metadata": {},
   "source": [
    "In 2-5 sentences, answer the following:\n",
    "- At approximately what point do the lines representing the two approaches cross? What does this mean about **which** composition technique should be used for an iterative algorithm?\n",
    "- The two lines represent **different** privacy costs for the **same** algorithm. How can both be correct?"
   ]
  },
  {
   "cell_type": "code",
   "execution_count": 22,
   "metadata": {},
   "outputs": [],
   "source": [
    "# In this cell (in markdown or a comment) write your reponses."
   ]
  },
  {
   "cell_type": "markdown",
   "metadata": {},
   "source": [
    "### Question 19 (3 points)\n",
    "\n",
    "In the cell below, define a function that implements the vector version of the Laplace mechanism."
   ]
  },
  {
   "cell_type": "code",
   "execution_count": 23,
   "metadata": {},
   "outputs": [],
   "source": [
    "def laplace_mech_vec(qs, sensitivity, epsilon):\n",
    "    return your_code_here()"
   ]
  },
  {
   "cell_type": "markdown",
   "metadata": {},
   "source": [
    "### Question 20 (3 points)\n",
    "\n",
    "In the cell below, define a function that implements the vector version of the Gaussian mechanism."
   ]
  },
  {
   "cell_type": "code",
   "execution_count": 24,
   "metadata": {},
   "outputs": [],
   "source": [
    "def gaussian_mech_vec(qs, sensitivity, epsilon, delta):\n",
    "    return your_code_here()"
   ]
  },
  {
   "cell_type": "markdown",
   "metadata": {},
   "source": [
    "### Question 21 (4 points)\n",
    "\n",
    "Consider the code below, which defines three average queries and runs them on `adult_data`."
   ]
  },
  {
   "cell_type": "code",
   "execution_count": 35,
   "metadata": {},
   "outputs": [
    {
     "data": {
      "text/plain": [
       "[3.071158748195694e-05, 3.071158748195694e-05, 3.071158748195694e-05]"
      ]
     },
     "execution_count": 35,
     "metadata": {},
     "output_type": "execute_result"
    }
   ],
   "source": [
    "b_capgain = 3000\n",
    "b_year = 3000\n",
    "b_age = 3000\n",
    "\n",
    "n = len(adult_data)\n",
    "\n",
    "def query1():\n",
    "    return np.sum(z_clip(adult_data['Capital Gain'], b_capgain))/n\n",
    "\n",
    "def query2():\n",
    "    return np.sum(z_clip(adult_data['DOB'].dt.year, b_year))/n\n",
    "\n",
    "def query3():\n",
    "    return np.sum(z_clip(adult_data['Age'], b_age))/n\n",
    "\n",
    "def my_query():\n",
    "    return [query1(), query2(), query3()]\n",
    "\n",
    "my_query()"
   ]
  },
  {
   "cell_type": "markdown",
   "metadata": {},
   "source": [
    "In 2-5 sentences, answer the following:\n",
    "- What is the $L_1$ sensitivity of `my_query`, and why?\n",
    "- What is the $L_2$ sensitivity of `my_query`, and why?"
   ]
  },
  {
   "cell_type": "code",
   "execution_count": 36,
   "metadata": {},
   "outputs": [],
   "source": [
    "# In this cell (in markdown or a comment) write your reponses."
   ]
  },
  {
   "cell_type": "markdown",
   "metadata": {},
   "source": [
    "### Question 22 (6 points)\n",
    "\n",
    "In the cell below, write code to release the results of calling `my_query()` with differential privacy, without using sequential composition.\n",
    "\n",
    "*Hint*: use `laplace_mech_vec`, but be careful of sensitivity!"
   ]
  },
  {
   "cell_type": "code",
   "execution_count": 37,
   "metadata": {},
   "outputs": [
    {
     "data": {
      "text/plain": [
       "1"
      ]
     },
     "execution_count": 37,
     "metadata": {},
     "output_type": "execute_result"
    }
   ],
   "source": [
    "your_code_here()"
   ]
  },
  {
   "cell_type": "markdown",
   "metadata": {},
   "source": [
    "### Question 23 (4 points)\n",
    "\n",
    "In 2-5 sentences, answer the following:\n",
    "- What is the total privacy cost of your answer to Question 22, and why?"
   ]
  },
  {
   "cell_type": "markdown",
   "metadata": {},
   "source": [
    "### Question 24 (6 points)\n",
    "\n",
    "In the cell below, write code to release the results of `my_query()` with differential privacy, but using the Gaussian mechanism."
   ]
  },
  {
   "cell_type": "code",
   "execution_count": 29,
   "metadata": {},
   "outputs": [
    {
     "data": {
      "text/plain": [
       "1"
      ]
     },
     "execution_count": 29,
     "metadata": {},
     "output_type": "execute_result"
    }
   ],
   "source": [
    "your_code_here()"
   ]
  },
  {
   "cell_type": "markdown",
   "metadata": {},
   "source": [
    "### Extra Credit\n",
    "\n",
    "You may earn up to 10 points of extra credit on this homework by providing *narrated proofs* of the Sequential and Parallel Composition Theorems. You must prove the Theorems as they are stated on the class slides, following the same notation. Understanding that these proofs are well-known and you may look them up, I am requesting that you *narrate* your proof completely.  That is, for each step in the proof, provide narrative justification for this step. The proof of each Theorem will be graded on a 5 point scale.\n",
    "\n",
    "You should upload your proofs as a separate file. Please type your responses. You may use LaTeX or Word. The same collaboration guidelines apply here. You are required to work indepedently."
   ]
  },
  {
   "cell_type": "code",
   "execution_count": 8,
   "metadata": {},
   "outputs": [],
   "source": [
    "# Please submit your reponses via separate file."
   ]
  }
 ],
 "metadata": {
  "kernelspec": {
   "display_name": "Python 3",
   "language": "python",
   "name": "python3"
  },
  "language_info": {
   "codemirror_mode": {
    "name": "ipython",
    "version": 3
   },
   "file_extension": ".py",
   "mimetype": "text/x-python",
   "name": "python",
   "nbconvert_exporter": "python",
   "pygments_lexer": "ipython3",
   "version": "3.7.10"
  }
 },
 "nbformat": 4,
 "nbformat_minor": 2
}
